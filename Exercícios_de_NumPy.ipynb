{
  "cells": [
    {
      "cell_type": "markdown",
      "metadata": {
        "id": "5MqHcV1XcSpT"
      },
      "source": [
        "**Exercício 1: Estatísticas Descritivas**\n",
        "\n",
        "Crie um array de 50 números inteiros aleatórios entre 1 e 100. Calcule e exiba a média, mediana, desvio padrão, valor máximo e valor mínimo."
      ]
    },
    {
      "cell_type": "code",
      "execution_count": 3,
      "metadata": {
        "id": "_dAbsR00caGE"
      },
      "outputs": [
        {
          "name": "stdout",
          "output_type": "stream",
          "text": [
            "Array Original: [ 98  99  54  79  56  37  55 100  36  10  16  39  15  39  16   5  29  78\n",
            "  68  27  26  65  17   3  25  10  95  65  80  69   7  30  91  97  79  91\n",
            "  93  37  21  78  48  88  88  80  20  76  95  85  27  13]\n",
            "Média: 53.1 | Mediana: 54.5 | Desvio Padrão: 31.668438546919234 | Valor Máximo: 100 | Valor Minimo: 3\n"
          ]
        }
      ],
      "source": [
        "import numpy as np\n",
        "\n",
        "array_num = np.random.randint(1,101, 50) \n",
        "\n",
        "media = np.mean(array_num)\n",
        "mediana = np.median(array_num)\n",
        "desvioPadrao = np.std(array_num)\n",
        "valorMax = np.max(array_num)\n",
        "valorMin = np.min(array_num)\n",
        "\n",
        "print(f\"Array Original: {array_num}\")\n",
        "print(f\"Média: {media} | Mediana: {mediana} | Desvio Padrão: {desvioPadrao} | Valor Máximo: {valorMax} | Valor Minimo: {valorMin}\")"
      ]
    },
    {
      "cell_type": "markdown",
      "metadata": {
        "id": "JeJPW98VcbG9"
      },
      "source": [
        "**Exercício 2: Operações com Matrizes**\n",
        "\n",
        "Crie duas matrizes 3x3 de números inteiros aleatórios entre 1 e 10. Realize as operações de adição, subtração, multiplicação e divisão elemento por elemento entre as duas matrizes."
      ]
    },
    {
      "cell_type": "code",
      "execution_count": 44,
      "metadata": {
        "id": "02tMKXtTcqRM"
      },
      "outputs": [
        {
          "name": "stdout",
          "output_type": "stream",
          "text": [
            "array 1: \n",
            " [[7 6 5]\n",
            " [9 5 7]\n",
            " [6 8 2]]\n",
            "array 2: \n",
            " [[ 9  1  5]\n",
            " [ 4  1 10]\n",
            " [ 1  9  7]]\n",
            "\n",
            "\n",
            " soma:\n",
            " [[16  7 10]\n",
            " [13  6 17]\n",
            " [ 7 17  9]]  | \n",
            "\n",
            " subtracao: \n",
            " [[-2  5  0]\n",
            " [ 5  4 -3]\n",
            " [ 5 -1 -5]] | \n",
            "\n",
            " multiplicacao: \n",
            "[[63  6 25]\n",
            " [36  5 70]\n",
            " [ 6 72 14]]| \n",
            "\n",
            " divisao:\n",
            " [[0.77777778 6.         1.        ]\n",
            " [2.25       5.         0.7       ]\n",
            " [6.         0.88888889 0.28571429]]\n"
          ]
        }
      ],
      "source": [
        "array_1 = np.random.randint(1,11, 9).reshape(3, 3)\n",
        "array_2 = np.random.randint(1,11, 9).reshape(3, 3)\n",
        "\n",
        "print(\"array 1: \\n\", array_1)\n",
        "print(\"array 2: \\n\", array_2)\n",
        "\n",
        "soma = array_1 + array_2\n",
        "subtracao = array_1 - array_2\n",
        "multiplicacao = array_1 * array_2\n",
        "divisao = array_1 / array_2\n",
        "\n",
        "print(f\"\\n\\n soma:\\n {soma}  | \\n\\n subtracao: \\n {subtracao} | \\n\\n multiplicacao: \\n{multiplicacao}| \\n\\n divisao:\\n {divisao}\")"
      ]
    },
    {
      "cell_type": "markdown",
      "metadata": {
        "id": "uDBACVC8cvek"
      },
      "source": [
        "**Exercício 3: Operações de Agregação**\n",
        "\n",
        "Crie uma matriz 4x4 de números inteiros aleatórios entre 1 e 20. Calcule e exiba a soma dos elementos para cada linha e para cada coluna."
      ]
    },
    {
      "cell_type": "code",
      "execution_count": 54,
      "metadata": {
        "id": "t7vqqYlfc3uC"
      },
      "outputs": [
        {
          "name": "stdout",
          "output_type": "stream",
          "text": [
            "array original \n",
            "\n",
            " [[19  9  6 13]\n",
            " [ 7 18 11 17]\n",
            " [ 7  7  3 13]\n",
            " [12 12  2 13]]\n",
            "\n",
            "Soma Linha: [47 53 30 39]\n",
            "Soma Coluna: [45 46 22 56]\n"
          ]
        }
      ],
      "source": [
        "array3 = np.random.randint(1,21, (4,4))\n",
        "\n",
        "somaLinha = np.sum(array3, axis=1)\n",
        "somaColuna = np.sum(array3, axis=0)\n",
        "\n",
        "print(\"array original \\n\\n\", array3)\n",
        "\n",
        "print(f\"\\nSoma Linha: {somaLinha}\")\n",
        "print(f\"Soma Coluna: {somaColuna}\")\n"
      ]
    },
    {
      "cell_type": "markdown",
      "metadata": {
        "id": "_7ELGR0tc-Zl"
      },
      "source": [
        "**Exercício 4: Filtragem de Valores**\n",
        "\n",
        "Crie um array de 30 números inteiros aleatórios entre 0 e 50. Encontre e exiba todos os valores que são maiores que 25."
      ]
    },
    {
      "cell_type": "code",
      "execution_count": 9,
      "metadata": {
        "id": "GKMCRZQrdB9P"
      },
      "outputs": [
        {
          "name": "stdout",
          "output_type": "stream",
          "text": [
            "array original: [ 8 17 15  5 35 49 48 35 32 44 26 25 37 40 42 32 15 19 18  3  1 15 46 42\n",
            " 14 50 21 31 22 34]\n",
            "Maiores que 25: [35 49 48 35 32 44 26 37 40 42 32 46 42 50 31 34]\n"
          ]
        }
      ],
      "source": [
        "array4 = np.random.randint(0 , 51, 30)\n",
        "print(f\"array original: {array4}\")\n",
        "print(f\"Maiores que 25: {array4[array4>25]}\")"
      ]
    },
    {
      "cell_type": "markdown",
      "metadata": {
        "id": "WfgLU2IrdKQ6"
      },
      "source": [
        "**Exercício 5: Criação e Manipulação de Arrays Multidimensionais**\n",
        "\n",
        "Crie uma matriz 3x3x3 de números inteiros aleatórios entre 1 e 10. Calcule a soma total dos elementos e a soma cumulativa."
      ]
    },
    {
      "cell_type": "code",
      "execution_count": 6,
      "metadata": {
        "id": "tvws8aE_dTBv"
      },
      "outputs": [
        {
          "name": "stdout",
          "output_type": "stream",
          "text": [
            "matriz:\n",
            " [[5 8 7]\n",
            " [8 1 1]\n",
            " [9 9 9]]\n",
            "soma cumulativa: [ 5 13 20 28 29 30 39 48 57]\n",
            "soma: 57\n"
          ]
        }
      ],
      "source": [
        "arr = np.random.randint(1, 11,(3,3))\n",
        "print(f\"matriz:\\n {arr}\")\n",
        "print(f\"soma cumulativa: {arr.cumsum()}\")\n",
        "print(f\"soma: {arr.sum()}\")"
      ]
    }
  ],
  "metadata": {
    "colab": {
      "provenance": []
    },
    "kernelspec": {
      "display_name": "Python 3",
      "name": "python3"
    },
    "language_info": {
      "codemirror_mode": {
        "name": "ipython",
        "version": 3
      },
      "file_extension": ".py",
      "mimetype": "text/x-python",
      "name": "python",
      "nbconvert_exporter": "python",
      "pygments_lexer": "ipython3",
      "version": "3.10.12"
    }
  },
  "nbformat": 4,
  "nbformat_minor": 0
}
