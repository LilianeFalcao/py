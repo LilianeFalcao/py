{
  "cells": [
    {
      "cell_type": "markdown",
      "metadata": {
        "id": "5MqHcV1XcSpT"
      },
      "source": [
        "**Exercício 1: Estatísticas Descritivas**\n",
        "\n",
        "Crie um array de 50 números inteiros aleatórios entre 1 e 100. Calcule e exiba a média, mediana, desvio padrão, valor máximo e valor mínimo."
      ]
    },
    {
      "cell_type": "code",
      "execution_count": 33,
      "metadata": {
        "id": "_dAbsR00caGE"
      },
      "outputs": [
        {
          "name": "stdout",
          "output_type": "stream",
          "text": [
            "Array Original: [ 58  38  28  92  80  12  62  33  97 100  30  71  76  28  86  71  16  12\n",
            "  28  58 100  73  94  56   6  65  31  95  41   7  80  87  34  22  13  13\n",
            "  50  31  78  85  97  34  64  91  93  10  67  84  85  54]\n",
            "Média: 56.32 | Mediana: 60.0 | Desvio Padrão: 30.06755061523968 | Valor Máximo: 100 | Valor Minimo: 6\n"
          ]
        }
      ],
      "source": [
        "import numpy as np\n",
        "\n",
        "array_num = np.random.randint(1,101, 50) \n",
        "\n",
        "media = np.mean(array_num)\n",
        "mediana = np.median(array_num)\n",
        "desvioPadrao = np.std(array_num)\n",
        "valorMax = np.max(array_num)\n",
        "valorMin = np.min(array_num)\n",
        "\n",
        "print(f\"Array Original: {array_num}\")\n",
        "print(f\"Média: {media} | Mediana: {mediana} | Desvio Padrão: {desvioPadrao} | Valor Máximo: {valorMax} | Valor Minimo: {valorMin}\")"
      ]
    },
    {
      "cell_type": "markdown",
      "metadata": {
        "id": "JeJPW98VcbG9"
      },
      "source": [
        "**Exercício 2: Operações com Matrizes**\n",
        "\n",
        "Crie duas matrizes 3x3 de números inteiros aleatórios entre 1 e 10. Realize as operações de adição, subtração, multiplicação e divisão elemento por elemento entre as duas matrizes."
      ]
    },
    {
      "cell_type": "code",
      "execution_count": 44,
      "metadata": {
        "id": "02tMKXtTcqRM"
      },
      "outputs": [
        {
          "name": "stdout",
          "output_type": "stream",
          "text": [
            "array 1: \n",
            " [[7 6 5]\n",
            " [9 5 7]\n",
            " [6 8 2]]\n",
            "array 2: \n",
            " [[ 9  1  5]\n",
            " [ 4  1 10]\n",
            " [ 1  9  7]]\n",
            "\n",
            "\n",
            " soma:\n",
            " [[16  7 10]\n",
            " [13  6 17]\n",
            " [ 7 17  9]]  | \n",
            "\n",
            " subtracao: \n",
            " [[-2  5  0]\n",
            " [ 5  4 -3]\n",
            " [ 5 -1 -5]] | \n",
            "\n",
            " multiplicacao: \n",
            "[[63  6 25]\n",
            " [36  5 70]\n",
            " [ 6 72 14]]| \n",
            "\n",
            " divisao:\n",
            " [[0.77777778 6.         1.        ]\n",
            " [2.25       5.         0.7       ]\n",
            " [6.         0.88888889 0.28571429]]\n"
          ]
        }
      ],
      "source": [
        "array_1 = np.random.randint(1,11, 9).reshape(3, 3)\n",
        "array_2 = np.random.randint(1,11, 9).reshape(3, 3)\n",
        "\n",
        "print(\"array 1: \\n\", array_1)\n",
        "print(\"array 2: \\n\", array_2)\n",
        "\n",
        "soma = array_1 + array_2\n",
        "subtracao = array_1 - array_2\n",
        "multiplicacao = array_1 * array_2\n",
        "divisao = array_1 / array_2\n",
        "\n",
        "print(f\"\\n\\n soma:\\n {soma}  | \\n\\n subtracao: \\n {subtracao} | \\n\\n multiplicacao: \\n{multiplicacao}| \\n\\n divisao:\\n {divisao}\")"
      ]
    },
    {
      "cell_type": "markdown",
      "metadata": {
        "id": "uDBACVC8cvek"
      },
      "source": [
        "**Exercício 3: Operações de Agregação**\n",
        "\n",
        "Crie uma matriz 4x4 de números inteiros aleatórios entre 1 e 20. Calcule e exiba a soma dos elementos para cada linha e para cada coluna."
      ]
    },
    {
      "cell_type": "code",
      "execution_count": 54,
      "metadata": {
        "id": "t7vqqYlfc3uC"
      },
      "outputs": [
        {
          "name": "stdout",
          "output_type": "stream",
          "text": [
            "array original \n",
            "\n",
            " [[19  9  6 13]\n",
            " [ 7 18 11 17]\n",
            " [ 7  7  3 13]\n",
            " [12 12  2 13]]\n",
            "\n",
            "Soma Linha: [47 53 30 39]\n",
            "Soma Coluna: [45 46 22 56]\n"
          ]
        }
      ],
      "source": [
        "array3 = np.random.randint(1,21, (4,4))\n",
        "\n",
        "somaLinha = np.sum(array3, axis=1)\n",
        "somaColuna = np.sum(array3, axis=0)\n",
        "\n",
        "print(\"array original \\n\\n\", array3)\n",
        "\n",
        "print(f\"\\nSoma Linha: {somaLinha}\")\n",
        "print(f\"Soma Coluna: {somaColuna}\")\n"
      ]
    },
    {
      "cell_type": "markdown",
      "metadata": {
        "id": "_7ELGR0tc-Zl"
      },
      "source": [
        "**Exercício 4: Filtragem de Valores**\n",
        "\n",
        "Crie um array de 30 números inteiros aleatórios entre 0 e 50. Encontre e exiba todos os valores que são maiores que 25."
      ]
    },
    {
      "cell_type": "code",
      "execution_count": 55,
      "metadata": {
        "id": "GKMCRZQrdB9P"
      },
      "outputs": [
        {
          "data": {
            "text/plain": [
              "array([17, 20, 19, 10, 45, 27, 32, 49, 11, 39, 31, 35,  2, 27, 14, 26,  0,\n",
              "        3, 15, 17, 25, 17, 10, 11, 29, 43, 37, 38,  8, 34])"
            ]
          },
          "execution_count": 55,
          "metadata": {},
          "output_type": "execute_result"
        }
      ],
      "source": [
        "array4 = np.random.randint(0 , 50, 30)\n",
        "\n"
      ]
    },
    {
      "cell_type": "markdown",
      "metadata": {
        "id": "WfgLU2IrdKQ6"
      },
      "source": [
        "**Exercício 5: Criação e Manipulação de Arrays Multidimensionais**\n",
        "\n",
        "Crie uma matriz 3x3x3 de números inteiros aleatórios entre 1 e 10. Calcule a soma total dos elementos e a soma cumulativa."
      ]
    },
    {
      "cell_type": "code",
      "execution_count": null,
      "metadata": {
        "id": "tvws8aE_dTBv"
      },
      "outputs": [],
      "source": []
    }
  ],
  "metadata": {
    "colab": {
      "provenance": []
    },
    "kernelspec": {
      "display_name": "Python 3",
      "name": "python3"
    },
    "language_info": {
      "codemirror_mode": {
        "name": "ipython",
        "version": 3
      },
      "file_extension": ".py",
      "mimetype": "text/x-python",
      "name": "python",
      "nbconvert_exporter": "python",
      "pygments_lexer": "ipython3",
      "version": "3.10.12"
    }
  },
  "nbformat": 4,
  "nbformat_minor": 0
}
