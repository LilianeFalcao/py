{
  "cells": [
    {
      "cell_type": "markdown",
      "metadata": {
        "id": "BiCAnRVJaqvL"
      },
      "source": [
        "# Herança e Polimorfismo em Python"
      ]
    },
    {
      "cell_type": "markdown",
      "metadata": {
        "id": "hmLi7LodataB"
      },
      "source": [
        "### Exercício 1 - Herança\n",
        "\n",
        "Crie uma hierarquia de classes para modelar figuras geométricas. A classe base deve ser chamada de `FiguraGeometrica` e deve conter um método `calcular_area()` que será implementado nas classes derivadas. Crie duas subclasses, `Retangulo` e `Circulo`, que herdam da classe `FiguraGeometrica` e implementam o método `calcular_area()` para calcular a área do retângulo e do círculo, respectivamente."
      ]
    },
    {
      "cell_type": "code",
      "execution_count": 2,
      "metadata": {
        "id": "wA2LIcHlanWo"
      },
      "outputs": [
        {
          "name": "stdout",
          "output_type": "stream",
          "text": [
            "Área do retângulo: 20\n",
            "Área do circulo: 28.27\n"
          ]
        }
      ],
      "source": [
        "import math\n",
        "\n",
        "class FiguraGeometrica:\n",
        "    def calcularArea(self):\n",
        "        pass\n",
        "class Circulo(FiguraGeometrica):\n",
        "    __slot__ = ['raio']\n",
        "    def __init__(self, raio):\n",
        "        self.raio = raio\n",
        "    def calcularArea(self):\n",
        "        return math.pi * (self.raio ** 2)\n",
        "\n",
        "\n",
        "class Retangulo(FiguraGeometrica):\n",
        "    __slot__ = ['altura', 'base']\n",
        "    def __init__(self, altura, base):\n",
        "        self.altura = altura\n",
        "        self.base = base   \n",
        "\n",
        "    def calcularArea(self):\n",
        "        return self.base * self.altura\n",
        "\n",
        "circulo = Circulo(3)\n",
        "retangulo = Retangulo(4, 5)\n",
        "\n",
        "print(f\"Área do retângulo: {retangulo.calcularArea()}\")\n",
        "print(f\"Área do circulo: {circulo.calcularArea():.2f}\")\n",
        "\n",
        "\n"
      ]
    },
    {
      "cell_type": "markdown",
      "metadata": {
        "id": "jwgUCRFlbK5z"
      },
      "source": [
        "### Exercício 2 - Herança múltipla\n",
        "\n",
        "Crie a classe `Motor` que contém os atributos `num_cilindro(int)` e `potencia(int)`. Inclua um construtor sem argumentos que inicialize os dados com zeros e um construtor que inicialize os dados com os valores recebidos como argumento. Escreva a classe `Veiculo` contendo `peso` em quilos (int), `veloc_max` em km/h (int) e `preco` em R$ (float). Inclua um construtor sem argumentos que inicialize os dados com zeros e um construtor que inicialize os dados com os valores recebidos como argumento. Crie a classe `CarroPasseio` usando as classes `Motor` e `Veiculo` como base. Inclua `cor` (string) e `modelo` (string). Inclua um construtor que inicialize os dados com zeros e um construtor que inicialize os dados com os valores recebidos como argumento."
      ]
    },
    {
      "cell_type": "code",
      "execution_count": 4,
      "metadata": {
        "id": "mVBURt4Bd14l"
      },
      "outputs": [
        {
          "ename": "TypeError",
          "evalue": "multiple bases have instance lay-out conflict",
          "output_type": "error",
          "traceback": [
            "\u001b[0;31m---------------------------------------------------------------------------\u001b[0m",
            "\u001b[0;31mTypeError\u001b[0m                                 Traceback (most recent call last)",
            "\u001b[0;32m/tmp/ipykernel_11997/4180342125.py\u001b[0m in \u001b[0;36m<module>\u001b[0;34m\u001b[0m\n\u001b[1;32m     14\u001b[0m \u001b[0;34m\u001b[0m\u001b[0m\n\u001b[1;32m     15\u001b[0m \u001b[0;34m\u001b[0m\u001b[0m\n\u001b[0;32m---> 16\u001b[0;31m \u001b[0;32mclass\u001b[0m \u001b[0mCarroPasseio\u001b[0m\u001b[0;34m(\u001b[0m \u001b[0mMotor\u001b[0m\u001b[0;34m,\u001b[0m \u001b[0mVeiculo\u001b[0m \u001b[0;34m)\u001b[0m\u001b[0;34m:\u001b[0m\u001b[0;34m\u001b[0m\u001b[0;34m\u001b[0m\u001b[0m\n\u001b[0m\u001b[1;32m     17\u001b[0m     \u001b[0m__slots__\u001b[0m \u001b[0;34m=\u001b[0m \u001b[0;34m[\u001b[0m\u001b[0;34m'cor'\u001b[0m\u001b[0;34m,\u001b[0m \u001b[0;34m'modelo'\u001b[0m\u001b[0;34m]\u001b[0m\u001b[0;34m\u001b[0m\u001b[0;34m\u001b[0m\u001b[0m\n\u001b[1;32m     18\u001b[0m     \u001b[0;32mdef\u001b[0m \u001b[0m__init__\u001b[0m\u001b[0;34m(\u001b[0m\u001b[0mself\u001b[0m\u001b[0;34m,\u001b[0m \u001b[0mcor\u001b[0m \u001b[0;34m=\u001b[0m \u001b[0;34m''\u001b[0m\u001b[0;34m,\u001b[0m \u001b[0mmodelo\u001b[0m \u001b[0;34m=\u001b[0m \u001b[0;34m''\u001b[0m\u001b[0;34m,\u001b[0m \u001b[0mnumCilindro\u001b[0m \u001b[0;34m=\u001b[0m \u001b[0;36m0\u001b[0m\u001b[0;34m,\u001b[0m \u001b[0mpotencia\u001b[0m \u001b[0;34m=\u001b[0m \u001b[0;36m0\u001b[0m\u001b[0;34m,\u001b[0m \u001b[0mpeso\u001b[0m \u001b[0;34m=\u001b[0m \u001b[0;36m0\u001b[0m\u001b[0;34m,\u001b[0m \u001b[0mvelocMax\u001b[0m \u001b[0;34m=\u001b[0m \u001b[0;36m0\u001b[0m\u001b[0;34m,\u001b[0m \u001b[0mpreco\u001b[0m \u001b[0;34m=\u001b[0m \u001b[0;36m0.0\u001b[0m\u001b[0;34m)\u001b[0m\u001b[0;34m:\u001b[0m\u001b[0;34m\u001b[0m\u001b[0;34m\u001b[0m\u001b[0m\n",
            "\u001b[0;31mTypeError\u001b[0m: multiple bases have instance lay-out conflict"
          ]
        }
      ],
      "source": [
        "class Motor:\n",
        "    __slots__ = ['numCilindro', 'potencia']\n",
        "\n",
        "    def __init__(self, numCilindro = 0, potencia = 0):\n",
        "        self.numCilindro = numCilindro\n",
        "        self.potencia = potencia\n",
        "\n",
        "class Veiculo:\n",
        "    __slots__ = ['peso', 'velocMax', 'preco']\n",
        "    def __init__(self, peso = 0, velocMax = 0, preco = 0.0):\n",
        "        self.peso = peso\n",
        "        self.velocMax = velocMax\n",
        "        self.preco = preco\n",
        "\n",
        "\n",
        "class CarroPasseio( Motor, Veiculo ):\n",
        "    __slots__ = ['cor', 'modelo']\n",
        "    def __init__(self, cor = '', modelo = '', numCilindro = 0, potencia = 0, peso = 0, velocMax = 0, preco = 0.0):\n",
        "        self.cor = cor\n",
        "        self.modelo = modelo\n",
        "        Motor.__init__(numCilindro, potencia)\n",
        "        Veiculo.__init__(peso, velocMax, preco)\n",
        "    def __str__(self) -> str:\n",
        "        return print(f\"CarroPasseio: (cor: {self.cor}| modelo:{self.modelo}|quantidadeDeCilindros: {self.numCilindro}| potencia: {self.potencia}| peso: {self.peso}| velocidadeMaxima: {self.velocMax}| Preço: {self.preco} ) \")\n",
        "    \n",
        "carro1 = CarroPasseio()\n",
        "carro2 = CarroPasseio(\"Azul\", \"Hatch\", 3, 130, 1000, 120, 80000)\n",
        "\n",
        "\n",
        "print(carro1)\n",
        "print(carro2)"
      ]
    },
    {
      "cell_type": "markdown",
      "metadata": {
        "id": "FiteFCjvcr-7"
      },
      "source": [
        "### Exercício 3 - Classe Abstrata\n",
        "\n",
        "Implemente uma classe abstrata chamada `Forma` com um método abstrato `area()`. Crie duas subclasses chamadas `Retangulo` e `Circulo`, que implementem o método `area()` para calcular a área do retângulo e do círculo, respectivamente.\n",
        "\n",
        "- A classe `Retangulo` deve ter dois atributos: `largura` e `altura`.\n",
        "- A classe `Circulo` deve ter um atributo: `raio`.\n",
        "- O método `area()` da classe `Retangulo` deve calcular a área usando a fórmula `largura * altura`.\n",
        "- O método `area()` da classe `Circulo` deve calcular a área usando a fórmula `π * raio^2`."
      ]
    },
    {
      "cell_type": "code",
      "execution_count": null,
      "metadata": {
        "id": "kcO_8ndKdWAD"
      },
      "outputs": [],
      "source": []
    },
    {
      "cell_type": "markdown",
      "metadata": {
        "id": "mMU1FzbgdWPh"
      },
      "source": [
        "### Exercício 4 - Métodos de Sobrecarga\n",
        "\n",
        "Crie uma classe chamada `Calculadora` que tenha um método chamado `soma()`. Este método deve ser capaz de somar dois ou três números, dependendo da quantidade de argumentos fornecidos.\n",
        "\n",
        "- Se dois números forem fornecidos, o método deve retornar a soma dos dois.\n",
        "- Se três números forem fornecidos, o método deve retornar a soma dos três."
      ]
    },
    {
      "cell_type": "code",
      "execution_count": null,
      "metadata": {
        "id": "uRbhnmFsdo9y"
      },
      "outputs": [],
      "source": []
    },
    {
      "cell_type": "markdown",
      "metadata": {
        "id": "EadpqQ71gsIr"
      },
      "source": [
        "### Exercício 5 - Argumentos nomeados\n",
        "\n",
        "Crie uma função chamada `calcula_media` que aceita um número arbitrário de argumentos posicionais (*args) representando `notas` e calcula a `média` dessas notas. A função deve retornar a média. Crie uma função chamada `info_livro` que aceita argumentos nomeados (**kwargs) para o `título`, `autor` e `ano` de publicação de um livro. A função deve imprimir as informações do livro de maneira formatada."
      ]
    },
    {
      "cell_type": "code",
      "execution_count": null,
      "metadata": {
        "id": "ofDW-vh-hoBk"
      },
      "outputs": [],
      "source": []
    },
    {
      "cell_type": "markdown",
      "metadata": {
        "id": "0CCAKFgAhoVl"
      },
      "source": [
        "### Exercício 6 - Polimorfismo\n",
        "\n",
        "Crie uma classe base chamada `Veiculo` que tenha um método chamado `acelerar()` que imprime \"Veículo acelerando\". Em seguida, crie duas subclasses, `Carro` e `Moto`, que herdem da classe `Veiculo`. Cada uma dessas subclasses deve substituir o método `acelerar()` com sua própria implementação específica (“Carro Acelerando” e “Moto Acelerando”). Depois, instancie um objeto para cada classe e teste o método acelerar de cada classe."
      ]
    },
    {
      "cell_type": "code",
      "execution_count": null,
      "metadata": {
        "id": "-XaWrZmbiQY8"
      },
      "outputs": [],
      "source": []
    }
  ],
  "metadata": {
    "colab": {
      "provenance": []
    },
    "kernelspec": {
      "display_name": "Python 3",
      "name": "python3"
    },
    "language_info": {
      "codemirror_mode": {
        "name": "ipython",
        "version": 3
      },
      "file_extension": ".py",
      "mimetype": "text/x-python",
      "name": "python",
      "nbconvert_exporter": "python",
      "pygments_lexer": "ipython3",
      "version": "3.10.12"
    }
  },
  "nbformat": 4,
  "nbformat_minor": 0
}
