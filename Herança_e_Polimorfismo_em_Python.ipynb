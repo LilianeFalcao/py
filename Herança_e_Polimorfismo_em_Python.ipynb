{
  "cells": [
    {
      "cell_type": "markdown",
      "metadata": {
        "id": "BiCAnRVJaqvL"
      },
      "source": [
        "# Herança e Polimorfismo em Python"
      ]
    },
    {
      "cell_type": "markdown",
      "metadata": {
        "id": "hmLi7LodataB"
      },
      "source": [
        "### Exercício 1 - Herança\n",
        "\n",
        "Crie uma hierarquia de classes para modelar figuras geométricas. A classe base deve ser chamada de `FiguraGeometrica` e deve conter um método `calcular_area()` que será implementado nas classes derivadas. Crie duas subclasses, `Retangulo` e `Circulo`, que herdam da classe `FiguraGeometrica` e implementam o método `calcular_area()` para calcular a área do retângulo e do círculo, respectivamente."
      ]
    },
    {
      "cell_type": "code",
      "execution_count": 1,
      "metadata": {
        "id": "wA2LIcHlanWo"
      },
      "outputs": [
        {
          "name": "stdout",
          "output_type": "stream",
          "text": [
            "Área do retângulo: 20\n",
            "Área do circulo: 28.27\n"
          ]
        }
      ],
      "source": [
        "import math\n",
        "\n",
        "class FiguraGeometrica:\n",
        "    def calcularArea(self):\n",
        "        pass\n",
        "class Circulo(FiguraGeometrica):\n",
        "    __slot__ = ['raio']\n",
        "    def __init__(self, raio):\n",
        "        self.raio = raio\n",
        "    def calcularArea(self):\n",
        "        return math.pi * (self.raio ** 2)\n",
        "\n",
        "\n",
        "class Retangulo(FiguraGeometrica):\n",
        "    __slot__ = ['altura', 'base']\n",
        "    def __init__(self, altura, base):\n",
        "        self.altura = altura\n",
        "        self.base = base   \n",
        "\n",
        "    def calcularArea(self):\n",
        "        return self.base * self.altura\n",
        "\n",
        "circulo = Circulo(3)\n",
        "retangulo = Retangulo(4, 5)\n",
        "\n",
        "print(f\"Área do retângulo: {retangulo.calcularArea()}\")\n",
        "print(f\"Área do circulo: {circulo.calcularArea():.2f}\")\n",
        "\n",
        "\n"
      ]
    },
    {
      "cell_type": "markdown",
      "metadata": {
        "id": "jwgUCRFlbK5z"
      },
      "source": [
        "### Exercício 2 - Herança múltipla\n",
        "\n",
        "Crie a classe `Motor` que contém os atributos `num_cilindro(int)` e `potencia(int)`. Inclua um construtor sem argumentos que inicialize os dados com zeros e um construtor que inicialize os dados com os valores recebidos como argumento. Escreva a classe `Veiculo` contendo `peso` em quilos (int), `veloc_max` em km/h (int) e `preco` em R$ (float). Inclua um construtor sem argumentos que inicialize os dados com zeros e um construtor que inicialize os dados com os valores recebidos como argumento. Crie a classe `CarroPasseio` usando as classes `Motor` e `Veiculo` como base. Inclua `cor` (string) e `modelo` (string). Inclua um construtor que inicialize os dados com zeros e um construtor que inicialize os dados com os valores recebidos como argumento."
      ]
    },
    {
      "cell_type": "code",
      "execution_count": 29,
      "metadata": {
        "id": "mVBURt4Bd14l"
      },
      "outputs": [
        {
          "name": "stdout",
          "output_type": "stream",
          "text": [
            "CarroPasseio: (cor: Azul| modelo:Hatch| quantidadeDeCilindros: 3| potencia: 130| peso: 1000| velocidadeMaxima: 120| Preço: 80000 ) \n"
          ]
        }
      ],
      "source": [
        "class Motor:\n",
        "    def __init__(self, numCilindro = 0, potencia = 0):\n",
        "        self.numCilindro = numCilindro\n",
        "        self.potencia = potencia\n",
        "\n",
        "class Veiculo:\n",
        "    def __init__(self, peso = 0, velocMax = 0, preco = 0.0):\n",
        "        self.peso = peso\n",
        "        self.velocMax = velocMax\n",
        "        self.preco = preco\n",
        "\n",
        "class CarroPasseio( Veiculo, Motor ):\n",
        "    def __init__(self, cor = '', modelo = '', numCilindro = 0, potencia = 0, peso = 0, velocMax = 0, preco = 0.0):\n",
        "        self.cor = cor\n",
        "        self.modelo = modelo\n",
        "        super().__init__(peso, velocMax, preco)\n",
        "        super(Veiculo, self).__init__(numCilindro, potencia )\n",
        "    def __str__(self) -> str:\n",
        "        # Return the formatted string instead of printing it\n",
        "        return f\"CarroPasseio: (cor: {self.cor}| modelo:{self.modelo}| quantidadeDeCilindros: {self.numCilindro}| potencia: {self.potencia}| peso: {self.peso}| velocidadeMaxima: {self.velocMax}| Preço: {self.preco} ) \"\n",
        "    \n",
        "carro1 = CarroPasseio()\n",
        "carro2 = CarroPasseio(\"Azul\", \"Hatch\", 3, 130, 1000, 120, 80000)\n",
        "\n",
        "print(carro2)"
      ]
    },
    {
      "cell_type": "markdown",
      "metadata": {
        "id": "FiteFCjvcr-7"
      },
      "source": [
        "### Exercício 3 - Classe Abstrata\n",
        "\n",
        "Implemente uma classe abstrata chamada `Forma` com um método abstrato `area()`. Crie duas subclasses chamadas `Retangulo` e `Circulo`, que implementem o método `area()` para calcular a área do retângulo e do círculo, respectivamente.\n",
        "\n",
        "- A classe `Retangulo` deve ter dois atributos: `largura` e `altura`.\n",
        "- A classe `Circulo` deve ter um atributo: `raio`.\n",
        "- O método `area()` da classe `Retangulo` deve calcular a área usando a fórmula `largura * altura`.\n",
        "- O método `area()` da classe `Circulo` deve calcular a área usando a fórmula `π * raio^2`."
      ]
    },
    {
      "cell_type": "code",
      "execution_count": 3,
      "metadata": {
        "id": "kcO_8ndKdWAD"
      },
      "outputs": [
        {
          "name": "stdout",
          "output_type": "stream",
          "text": [
            "Área do retangulo: 30.00 \n",
            "Área do Circulo: 28.27 \n"
          ]
        }
      ],
      "source": [
        "from abc import ABC, abstractmethod\n",
        "import math\n",
        "\n",
        "class Forma(ABC):\n",
        "    @abstractmethod\n",
        "    def area(self):\n",
        "        pass\n",
        "    \n",
        "class Retangulo(Forma):\n",
        "    def __init__(self, largura, altura):\n",
        "        self.largura = largura\n",
        "        self.altura = altura\n",
        "    def area(self):\n",
        "        return self.altura * self.largura\n",
        "\n",
        "class Circulo(Forma):\n",
        "    def __init__(self, raio):\n",
        "        self.raio = raio\n",
        "    def area(self):\n",
        "        return math.pi * (self.raio**2)\n",
        "\n",
        "ret = Retangulo(5, 6)\n",
        "cir = Circulo(3)\n",
        "\n",
        "print(f\"Área do retangulo: {ret.area():.2f} \")\n",
        "print(f\"Área do Circulo: {cir.area():.2f} \")"
      ]
    },
    {
      "cell_type": "markdown",
      "metadata": {
        "id": "mMU1FzbgdWPh"
      },
      "source": [
        "### Exercício 4 - Métodos de Sobrecarga\n",
        "\n",
        "Crie uma classe chamada `Calculadora` que tenha um método chamado `soma()`. Este método deve ser capaz de somar dois ou três números, dependendo da quantidade de argumentos fornecidos.\n",
        "\n",
        "- Se dois números forem fornecidos, o método deve retornar a soma dos dois.\n",
        "- Se três números forem fornecidos, o método deve retornar a soma dos três."
      ]
    },
    {
      "cell_type": "code",
      "execution_count": 6,
      "metadata": {
        "id": "uRbhnmFsdo9y"
      },
      "outputs": [
        {
          "name": "stdout",
          "output_type": "stream",
          "text": [
            "Somando dois numeros: 5\n",
            "Somando três numeros: 8\n"
          ]
        }
      ],
      "source": [
        "class Calculadora():\n",
        "    def Soma(self, num1, num2, num3 = None):\n",
        "        if(num3 is not None):\n",
        "            return num1 + num2 + num3\n",
        "        else:\n",
        "            return num1 + num2  \n",
        "\n",
        "Calculo1= Calculadora()\n",
        "Calculo2= Calculadora()\n",
        "\n",
        "print(f\"Somando dois numeros: {Calculo1.Soma(2,3)}\")\n",
        "print(f\"Somando três numeros: {Calculo2.Soma(2,3,3)}\")"
      ]
    },
    {
      "cell_type": "markdown",
      "metadata": {
        "id": "EadpqQ71gsIr"
      },
      "source": [
        "### Exercício 5 - Argumentos nomeados\n",
        "\n",
        "Crie uma função chamada `calcula_media` que aceita um número arbitrário de argumentos posicionais (*args) representando `notas` e calcula a `média` dessas notas. A função deve retornar a média. Crie uma função chamada `info_livro` que aceita argumentos nomeados (**kwargs) para o `título`, `autor` e `ano` de publicação de um livro. A função deve imprimir as informações do livro de maneira formatada."
      ]
    },
    {
      "cell_type": "code",
      "execution_count": 13,
      "metadata": {
        "id": "ofDW-vh-hoBk"
      },
      "outputs": [
        {
          "name": "stdout",
          "output_type": "stream",
          "text": [
            "media: 37.1\n",
            "Livro: Título: Naruto Shippuden| Autor: Masashi kishimoto| Ano:1996\n"
          ]
        }
      ],
      "source": [
        "#args recebe posições como uma 'lista' \n",
        "\n",
        "def CalculaMedia(*args):\n",
        "    if len(args) == 0:\n",
        "        return 0\n",
        "    else:\n",
        "        return sum(args)/ len(args)\n",
        "\n",
        "print (f\"media: {CalculaMedia(5.5, 9, 57, 100, 14)}\")\n",
        "\n",
        "#kwargs recebe 'nomes' e age como dicionário\n",
        "def infoLivro(**kwargs):\n",
        "    Titulo = kwargs.get(\"Titulo\", '')\n",
        "    Autor = kwargs.get(\"Autor\", '')\n",
        "    Ano = kwargs.get(\"Ano\", '')\n",
        "\n",
        "    print(f\"Livro: Título: {Titulo}| Autor: {Autor}| Ano:{Ano}\")\n",
        "\n",
        "infoLivro(Titulo = \"Naruto Shippuden\", Autor = \"Masashi kishimoto\", Ano = 1996)"
      ]
    },
    {
      "cell_type": "markdown",
      "metadata": {
        "id": "0CCAKFgAhoVl"
      },
      "source": [
        "### Exercício 6 - Polimorfismo\n",
        "\n",
        "Crie uma classe base chamada `Veiculo` que tenha um método chamado `acelerar()` que imprime \"Veículo acelerando\". Em seguida, crie duas subclasses, `Carro` e `Moto`, que herdem da classe `Veiculo`. Cada uma dessas subclasses deve substituir o método `acelerar()` com sua própria implementação específica (“Carro Acelerando” e “Moto Acelerando”). Depois, instancie um objeto para cada classe e teste o método acelerar de cada classe."
      ]
    },
    {
      "cell_type": "code",
      "execution_count": null,
      "metadata": {},
      "outputs": [],
      "source": []
    },
    {
      "cell_type": "code",
      "execution_count": 17,
      "metadata": {
        "id": "-XaWrZmbiQY8"
      },
      "outputs": [
        {
          "name": "stdout",
          "output_type": "stream",
          "text": [
            "Carro acelerando\n",
            "Moto acelerando\n"
          ]
        }
      ],
      "source": [
        "class Veiculo():\n",
        "    def acelerar(self):\n",
        "        print(f\"acelerando\")\n",
        "\n",
        "class Carro(Veiculo):\n",
        "    def acelerar(self):\n",
        "        print(f\"Carro acelerando\")\n",
        "    \n",
        "class Moto(Veiculo):\n",
        "    def acelerar(self):\n",
        "        print(f\"Moto acelerando\")\n",
        "    \n",
        "car = Carro()\n",
        "moto = Moto()\n",
        "\n",
        "car.acelerar()\n",
        "moto.acelerar()"
      ]
    }
  ],
  "metadata": {
    "colab": {
      "provenance": []
    },
    "kernelspec": {
      "display_name": "Python 3",
      "name": "python3"
    },
    "language_info": {
      "codemirror_mode": {
        "name": "ipython",
        "version": 3
      },
      "file_extension": ".py",
      "mimetype": "text/x-python",
      "name": "python",
      "nbconvert_exporter": "python",
      "pygments_lexer": "ipython3",
      "version": "3.10.12"
    }
  },
  "nbformat": 4,
  "nbformat_minor": 0
}
