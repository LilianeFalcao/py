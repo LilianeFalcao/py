{
  "cells": [
    {
      "cell_type": "markdown",
      "metadata": {
        "id": "mKFILtfcT8z4"
      },
      "source": [
        "# **Antes de resolver o exercícios, os alunos devem carregar os dados:**"
      ]
    },
    {
      "cell_type": "code",
      "execution_count": 18,
      "metadata": {
        "id": "WWA0uDELUEdl"
      },
      "outputs": [
        {
          "name": "stderr",
          "output_type": "stream",
          "text": [
            "[*********************100%%**********************]  1 of 1 completed\n"
          ]
        }
      ],
      "source": [
        "import yfinance as yf\n",
        "import pandas as pd\n",
        "\n",
        "# Baixar os dados do índice Bovespa (IBOV)\n",
        "ibov_data = yf.download('^BVSP', start='2020-01-01', end='2024-08-01')"
      ]
    },
    {
      "cell_type": "markdown",
      "metadata": {
        "id": "kqbHWUe-Qdjg"
      },
      "source": [
        "1 - Utilizando a série ibov_series, faça um gráfico simples que mostre a variação do valor de fechamento do índice Bovespa ao longo do tempo. Certifique-se de adicionar rótulos ao eixo X e ao eixo Y e um título ao gráfico.\n",
        "\n",
        "**Dica:** *Utilize o método* plot() *do Pandas*"
      ]
    },
    {
      "cell_type": "code",
      "execution_count": 27,
      "metadata": {
        "id": "ZCYM57J-X6Pv"
      },
      "outputs": [
        {
          "data": {
            "text/plain": [
              "<AxesSubplot: title={'center': 'Indice Bovespa'}, xlabel='anos', ylabel='valor de fechamento'>"
            ]
          },
          "execution_count": 27,
          "metadata": {},
          "output_type": "execute_result"
        },
        {
          "data": {
            "image/png": "[encoded data removed]",
            "text/plain": [
              "<Figure size 432x288 with 1 Axes>"
            ]
          },
          "metadata": {
            "needs_background": "light"
          },
          "output_type": "display_data"
        }
      ],
      "source": [
        "ibov_data.head()\n",
        "ibov_data['Close'].plot(xlabel='anos', ylabel = 'valor de fechamento', title=\"Indice Bovespa\")\n"
      ]
    },
    {
      "cell_type": "markdown",
      "metadata": {
        "id": "SSqmnRwNRd3h"
      },
      "source": [
        "2 - Usando a série ibov_series, calcule e exiba no console as seguintes estatísticas básicas: valor máximo, valor mínimo, média e mediana do índice Bovespa no período analisado.\n",
        "\n",
        "**Dicas**: *Utilize os métodos* max(), min(), mean() e median() *da série Pandas para calcular as estatísticas. Experimente exibir os resultados de forma clara e organizada.*"
      ]
    },
    {
      "cell_type": "code",
      "execution_count": null,
      "metadata": {
        "id": "X4b7jCBBX7Ig"
      },
      "outputs": [],
      "source": []
    },
    {
      "cell_type": "markdown",
      "metadata": {
        "id": "TfkRGTFXSys2"
      },
      "source": [
        "# **Antes de resolver os exercícios, os alunos devem carregar os dados a partir do arquivo CSV:**\n",
        "\n",
        "Este dataset contém classificações e indicadores detalhados do Índice de Prosperidade Legatum de 2023, avaliando e classificando países com base em várias dimensões de prosperidade e desenvolvimento. Os indicadores abrangem aspectos como:\n",
        "\n",
        "* País: O nome do país.\n",
        "* Pontuação média: A pontuação média geral do país em todos os indicadores.\n",
        "* Segurança Segurança: Liberdade de conflito, terrorismo e crime.\n",
        "* Liberdade pessoal: Direitos de expressão, reunião e autonomia individual.\n",
        "* Governança: Qualidade da democracia, Estado de direito e eficácia do governo.\n",
        "* Capital social: Força dos relacionamentos pessoais e engajamento cívico.\n",
        "* Ambiente de investimento: Condições para investimento privado e acesso a crédito.\n",
        "* Condições empresariais: Ambiente de negócios e concorrência de mercado.\n",
        "* Acesso ao mercado Infraestrutura: Facilidade de comércio e qualidade da infraestrutura.\n",
        "* Qualidade econômica: Estabilidade macroeconômica e qualidade do emprego.\n",
        "* Condições de vida: Padrão de vida e acesso a serviços básicos.\n",
        "* Saúde: Saúde da população e acesso à assistência médica.\n",
        "* Educação: Qualidade e acessibilidade da educação.\n",
        "* Ambiente natural: Qualidade ambiental e sustentabilidade."
      ]
    },
    {
      "cell_type": "code",
      "execution_count": 2,
      "metadata": {
        "id": "MOjDRQtqUb7c"
      },
      "outputs": [
        {
          "data": {
            "text/html": [
              "<div>\n",
              "<style scoped>\n",
              "    .dataframe tbody tr th:only-of-type {\n",
              "        vertical-align: middle;\n",
              "    }\n",
              "\n",
              "    .dataframe tbody tr th {\n",
              "        vertical-align: top;\n",
              "    }\n",
              "\n",
              "    .dataframe thead th {\n",
              "        text-align: right;\n",
              "    }\n",
              "</style>\n",
              "<table border=\"1\" class=\"dataframe\">\n",
              "  <thead>\n",
              "    <tr style=\"text-align: right;\">\n",
              "      <th></th>\n",
              "      <th>Country</th>\n",
              "      <th>AveragScore</th>\n",
              "      <th>SafetySecurity</th>\n",
              "      <th>PersonelFreedom</th>\n",
              "      <th>Governance</th>\n",
              "      <th>SocialCapital</th>\n",
              "      <th>InvestmentEnvironment</th>\n",
              "      <th>EnterpriseConditions</th>\n",
              "      <th>MarketAccessInfrastructure</th>\n",
              "      <th>EconomicQuality</th>\n",
              "      <th>LivingConditions</th>\n",
              "      <th>Health</th>\n",
              "      <th>Education</th>\n",
              "      <th>NaturalEnvironment</th>\n",
              "    </tr>\n",
              "  </thead>\n",
              "  <tbody>\n",
              "    <tr>\n",
              "      <th>0</th>\n",
              "      <td>Denmark</td>\n",
              "      <td>84.55</td>\n",
              "      <td>92.59</td>\n",
              "      <td>94.09</td>\n",
              "      <td>89.45</td>\n",
              "      <td>82.56</td>\n",
              "      <td>82.42</td>\n",
              "      <td>79.64</td>\n",
              "      <td>78.79</td>\n",
              "      <td>76.81</td>\n",
              "      <td>95.77</td>\n",
              "      <td>81.07</td>\n",
              "      <td>87.48</td>\n",
              "      <td>73.94</td>\n",
              "    </tr>\n",
              "    <tr>\n",
              "      <th>1</th>\n",
              "      <td>Sweden</td>\n",
              "      <td>83.67</td>\n",
              "      <td>90.97</td>\n",
              "      <td>91.90</td>\n",
              "      <td>86.41</td>\n",
              "      <td>78.29</td>\n",
              "      <td>82.81</td>\n",
              "      <td>75.54</td>\n",
              "      <td>79.67</td>\n",
              "      <td>76.18</td>\n",
              "      <td>95.33</td>\n",
              "      <td>82.28</td>\n",
              "      <td>85.92</td>\n",
              "      <td>78.74</td>\n",
              "    </tr>\n",
              "    <tr>\n",
              "      <th>2</th>\n",
              "      <td>Norway</td>\n",
              "      <td>83.59</td>\n",
              "      <td>93.30</td>\n",
              "      <td>94.10</td>\n",
              "      <td>89.66</td>\n",
              "      <td>79.03</td>\n",
              "      <td>82.24</td>\n",
              "      <td>75.95</td>\n",
              "      <td>75.87</td>\n",
              "      <td>77.25</td>\n",
              "      <td>94.70</td>\n",
              "      <td>82.98</td>\n",
              "      <td>85.68</td>\n",
              "      <td>72.37</td>\n",
              "    </tr>\n",
              "    <tr>\n",
              "      <th>3</th>\n",
              "      <td>Finland</td>\n",
              "      <td>83.47</td>\n",
              "      <td>89.56</td>\n",
              "      <td>91.96</td>\n",
              "      <td>90.41</td>\n",
              "      <td>77.27</td>\n",
              "      <td>84.12</td>\n",
              "      <td>77.25</td>\n",
              "      <td>78.77</td>\n",
              "      <td>70.28</td>\n",
              "      <td>94.46</td>\n",
              "      <td>81.19</td>\n",
              "      <td>88.38</td>\n",
              "      <td>77.99</td>\n",
              "    </tr>\n",
              "    <tr>\n",
              "      <th>4</th>\n",
              "      <td>Switzerland</td>\n",
              "      <td>83.42</td>\n",
              "      <td>95.66</td>\n",
              "      <td>87.50</td>\n",
              "      <td>87.67</td>\n",
              "      <td>69.14</td>\n",
              "      <td>80.81</td>\n",
              "      <td>83.84</td>\n",
              "      <td>78.65</td>\n",
              "      <td>79.71</td>\n",
              "      <td>94.66</td>\n",
              "      <td>82.11</td>\n",
              "      <td>87.72</td>\n",
              "      <td>73.60</td>\n",
              "    </tr>\n",
              "  </tbody>\n",
              "</table>\n",
              "</div>"
            ],
            "text/plain": [
              "         Country  AveragScore  SafetySecurity  PersonelFreedom  Governance  \\\n",
              "0        Denmark        84.55           92.59            94.09       89.45   \n",
              "1         Sweden        83.67           90.97            91.90       86.41   \n",
              "2         Norway        83.59           93.30            94.10       89.66   \n",
              "3        Finland        83.47           89.56            91.96       90.41   \n",
              "4    Switzerland        83.42           95.66            87.50       87.67   \n",
              "\n",
              "   SocialCapital  InvestmentEnvironment  EnterpriseConditions  \\\n",
              "0          82.56                  82.42                 79.64   \n",
              "1          78.29                  82.81                 75.54   \n",
              "2          79.03                  82.24                 75.95   \n",
              "3          77.27                  84.12                 77.25   \n",
              "4          69.14                  80.81                 83.84   \n",
              "\n",
              "   MarketAccessInfrastructure  EconomicQuality  LivingConditions  Health  \\\n",
              "0                       78.79            76.81             95.77   81.07   \n",
              "1                       79.67            76.18             95.33   82.28   \n",
              "2                       75.87            77.25             94.70   82.98   \n",
              "3                       78.77            70.28             94.46   81.19   \n",
              "4                       78.65            79.71             94.66   82.11   \n",
              "\n",
              "   Education  NaturalEnvironment  \n",
              "0      87.48               73.94  \n",
              "1      85.92               78.74  \n",
              "2      85.68               72.37  \n",
              "3      88.38               77.99  \n",
              "4      87.72               73.60  "
            ]
          },
          "execution_count": 2,
          "metadata": {},
          "output_type": "execute_result"
        }
      ],
      "source": [
        "import pandas as pd\n",
        "\n",
        "# Carregar os dados do arquivo CSV em um DataFrame\n",
        "df = pd.read_csv('pandasData/data.csv')\n",
        "\n",
        "# Exibir as primeiras linhas do DataFrame para ver a estrutura dos dados\n",
        "df.head()\n"
      ]
    },
    {
      "cell_type": "markdown",
      "metadata": {
        "id": "GV92teSOU-uZ"
      },
      "source": [
        "3 - Usando o DataFrame df, selecione e exiba todos os países que têm uma pontuação superior a 70 em \"Educação\" e uma pontuação superior a 75 em \"Saúde\". Mostre apenas as colunas \"País\", \"Educação\" e \"Saúde\" para esses países.\n",
        "\n",
        "**Dicas**:\n",
        "*Use a indexação com colchetes ([]) e operadores lógicos (&) para filtrar os dados.\n",
        "Lembre-se de utilizar o método loc ou [] para selecionar as colunas específicas.*"
      ]
    },
    {
      "cell_type": "code",
      "execution_count": 9,
      "metadata": {
        "id": "mcBVmJK9YGdY"
      },
      "outputs": [
        {
          "name": "stderr",
          "output_type": "stream",
          "text": [
            "/tmp/ipykernel_8229/1665899112.py:1: FutureWarning: Dropping of nuisance columns in DataFrame reductions (with 'numeric_only=None') is deprecated; in a future version this will raise TypeError.  Select only valid columns before calling the reduction.\n",
            "  df.skew()\n"
          ]
        },
        {
          "data": {
            "text/plain": [
              "AveragScore                   0.196693\n",
              "SafetySecurity               -0.655766\n",
              "PersonelFreedom              -0.039795\n",
              "Governance                    0.539574\n",
              "SocialCapital                 0.094918\n",
              "InvestmentEnvironment         0.237241\n",
              "EnterpriseConditions          0.289340\n",
              "MarketAccessInfrastructure   -0.062586\n",
              "EconomicQuality               0.299811\n",
              "LivingConditions             -0.581341\n",
              "Health                       -0.818534\n",
              "Education                    -0.305420\n",
              "NaturalEnvironment            0.213368\n",
              "dtype: float64"
            ]
          },
          "execution_count": 9,
          "metadata": {},
          "output_type": "execute_result"
        }
      ],
      "source": []
    },
    {
      "cell_type": "markdown",
      "metadata": {
        "id": "7R8hBC0NV-LN"
      },
      "source": [
        "4 - Apresente a matriz de correlação somente dos valores numéricos."
      ]
    },
    {
      "cell_type": "code",
      "execution_count": null,
      "metadata": {
        "id": "8fbPZpG6YH-u"
      },
      "outputs": [],
      "source": []
    }
  ],
  "metadata": {
    "colab": {
      "provenance": []
    },
    "kernelspec": {
      "display_name": "Python 3",
      "name": "python3"
    },
    "language_info": {
      "codemirror_mode": {
        "name": "ipython",
        "version": 3
      },
      "file_extension": ".py",
      "mimetype": "text/x-python",
      "name": "python",
      "nbconvert_exporter": "python",
      "pygments_lexer": "ipython3",
      "version": "3.10.12"
    }
  },
  "nbformat": 4,
  "nbformat_minor": 0
}
