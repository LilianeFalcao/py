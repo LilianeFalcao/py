{
  "cells": [
    {
      "cell_type": "markdown",
      "metadata": {
        "id": "KKMrrPQIjbXm"
      },
      "source": [
        "# Relacionamento entre classes: Agregação e Composição"
      ]
    },
    {
      "cell_type": "markdown",
      "metadata": {
        "id": "BhbHNCDKjnl4"
      },
      "source": [
        "### Exercício 1 - Agregação\n",
        "\n",
        "Crie duas classes: `Departamento` e `Funcionario`. A classe `Departamento` deve ter um atributo `nome` e uma lista de funcionários. A classe `Funcionario` deve ter os atributos `nome` e `cargo`. Utilize a agregação para representar a relação entre as duas classes, onde um departamento pode ter vários funcionários, mas um funcionário pode existir sem um departamento.\n",
        "\n",
        "- Utilize slots para definir os atributos das classes.\n",
        "- Crie métodos para adicionar funcionários no departamento.\n",
        "- Utilize o método de sobrecarga `__str__` para exibir as informações do departamento."
      ]
    },
    {
      "cell_type": "code",
      "execution_count": 10,
      "metadata": {
        "id": "qsu6nplIjUHL"
      },
      "outputs": [
        {
          "name": "stdout",
          "output_type": "stream",
          "text": [
            "Lista de Funcionarios no departamento: ferrados\n",
            "Nome: Giovanni | Cargo: Desenvolvedor de software\n",
            "Nome: Igor | Cargo: Jornalista\n",
            "Nome: Linn | Cargo: Desenvolvedor de software\n",
            "None\n"
          ]
        }
      ],
      "source": [
        "class Departamento:\n",
        "    __slots__ = [\"nome\", \"listaFunc\"]\n",
        "    def __init__(self, nome):\n",
        "        self.nome = nome\n",
        "        self.listaFunc = []\n",
        "    def addFuncionario(self, funcionario):\n",
        "        self.listaFunc.append(funcionario)\n",
        "    def Listar(self) -> str:\n",
        "        print(f\"Lista de Funcionarios no departamento: {self.nome}\")\n",
        "        for func in self.listaFunc:\n",
        "            print(func.listarFunc())\n",
        "        \n",
        "class Funcionario:\n",
        "    __slots__ = [\"nome\", \"cargo\"]\n",
        "    def __init__(self, nome, cargo):\n",
        "        self.nome = nome\n",
        "        self.cargo = cargo\n",
        "    def listarFunc(self):\n",
        "        return (f\"Nome: {self.nome} | Cargo: {self.cargo}\")\n",
        "    \n",
        "giovanni = Funcionario(\"Giovanni\", \"Desenvolvedor de software\")\n",
        "igor = Funcionario(\"Igor\", \"Jornalista\")\n",
        "linn = Funcionario(\"Linn\", \"Desenvolvedor de software\")\n",
        "\n",
        "depart = Departamento(\"ferrados\")\n",
        "depart.addFuncionario(giovanni)\n",
        "depart.addFuncionario(igor)\n",
        "depart.addFuncionario(linn)\n",
        "\n",
        "print(depart.Listar())"
      ]
    },
    {
      "cell_type": "markdown",
      "metadata": {
        "id": "fZUKMtl1moMd"
      },
      "source": [
        "### Exercício 2: Composição\n",
        "\n",
        "Crie duas classes: `Carro` e `Motor`. A classe `Carro` deve ter os atributos `marca` e `modelo`, além de um atributo do tipo `Motor`. A classe `Motor` deve ter o atributo `potencia`. Utilize a composição para representar a relação entre as duas classes, onde um carro sempre possui um motor e o motor não pode existir sem o carro.\n",
        "\n",
        "- Utilize slots para definir os atributos das classes.\n"
      ]
    },
    {
      "cell_type": "code",
      "execution_count": null,
      "metadata": {
        "id": "UVo16aqfnNEZ"
      },
      "outputs": [],
      "source": []
    },
    {
      "cell_type": "markdown",
      "metadata": {
        "id": "FSh2n9J6nOMR"
      },
      "source": [
        "# Exceções e Erros\n"
      ]
    },
    {
      "cell_type": "markdown",
      "metadata": {
        "id": "2FMt6sM6nSC4"
      },
      "source": [
        "### Exercício 3: Tratamento de Exceção\n",
        "\n",
        "Crie uma classe `Calculadora` que tenha métodos para `adicionar`, `subtrair`, `multiplicar` e `dividir` dois números. No método de divisão, capture a exceção que ocorre quando há uma tentativa de divisão por zero e exiba uma mensagem de erro amigável.\n",
        "\n",
        "- Utilize o bloco try except para tratar a exceção."
      ]
    },
    {
      "cell_type": "code",
      "execution_count": null,
      "metadata": {
        "id": "bM9DS_8_prSa"
      },
      "outputs": [],
      "source": []
    },
    {
      "cell_type": "markdown",
      "metadata": {
        "id": "75hMpymwprqW"
      },
      "source": [
        "### Exercício 4: Lançamento de Exceção\n",
        "\n",
        "Crie uma classe `VerificadorDeIdade` que possui um método `verificar_idade` que verifica se a idade fornecida é válida (deve ser um número positivo). Se a idade for inválida, lance uma exceção personalizada chamada `IdadeInvalidaError`.\n",
        "\n",
        "- Utilize o bloco try except para testar o uso da classe."
      ]
    },
    {
      "cell_type": "code",
      "execution_count": null,
      "metadata": {
        "id": "o0QazDERquva"
      },
      "outputs": [],
      "source": []
    }
  ],
  "metadata": {
    "colab": {
      "provenance": []
    },
    "kernelspec": {
      "display_name": "Python 3",
      "name": "python3"
    },
    "language_info": {
      "codemirror_mode": {
        "name": "ipython",
        "version": 3
      },
      "file_extension": ".py",
      "mimetype": "text/x-python",
      "name": "python",
      "nbconvert_exporter": "python",
      "pygments_lexer": "ipython3",
      "version": "3.10.12"
    }
  },
  "nbformat": 4,
  "nbformat_minor": 0
}
