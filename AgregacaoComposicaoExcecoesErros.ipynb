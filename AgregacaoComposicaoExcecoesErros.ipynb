{
  "cells": [
    {
      "cell_type": "markdown",
      "metadata": {
        "id": "KKMrrPQIjbXm"
      },
      "source": [
        "# Relacionamento entre classes: Agregação e Composição"
      ]
    },
    {
      "cell_type": "markdown",
      "metadata": {
        "id": "BhbHNCDKjnl4"
      },
      "source": [
        "### Exercício 1 - Agregação\n",
        "\n",
        "Crie duas classes: `Departamento` e `Funcionario`. A classe `Departamento` deve ter um atributo `nome` e uma lista de funcionários. A classe `Funcionario` deve ter os atributos `nome` e `cargo`. Utilize a agregação para representar a relação entre as duas classes, onde um departamento pode ter vários funcionários, mas um funcionário pode existir sem um departamento.\n",
        "\n",
        "- Utilize slots para definir os atributos das classes.\n",
        "- Crie métodos para adicionar funcionários no departamento.\n",
        "- Utilize o método de sobrecarga `__str__` para exibir as informações do departamento."
      ]
    },
    {
      "cell_type": "code",
      "execution_count": 1,
      "metadata": {
        "id": "qsu6nplIjUHL"
      },
      "outputs": [
        {
          "name": "stdout",
          "output_type": "stream",
          "text": [
            "Lista de Funcionarios no departamento: ferrados\n",
            "Nome: Giovanni | Cargo: Desenvolvedor de software\n",
            "Nome: Igor | Cargo: Jornalista\n",
            "Nome: Linn | Cargo: Desenvolvedor de software\n",
            "None\n"
          ]
        }
      ],
      "source": [
        "class Departamento:\n",
        "    __slots__ = [\"nome\", \"listaFunc\"]\n",
        "    def __init__(self, nome):\n",
        "        self.nome = nome\n",
        "        self.listaFunc = []\n",
        "    def addFuncionario(self, funcionario):\n",
        "        self.listaFunc.append(funcionario)\n",
        "    def Listar(self) -> str:\n",
        "        print(f\"Lista de Funcionarios no departamento: {self.nome}\")\n",
        "        for func in self.listaFunc:\n",
        "            print(func.listarFunc())\n",
        "        \n",
        "class Funcionario:\n",
        "    __slots__ = [\"nome\", \"cargo\"]\n",
        "    def __init__(self, nome, cargo):\n",
        "        self.nome = nome\n",
        "        self.cargo = cargo\n",
        "    def listarFunc(self):\n",
        "        return (f\"Nome: {self.nome} | Cargo: {self.cargo}\")\n",
        "    \n",
        "giovanni = Funcionario(\"Giovanni\", \"Desenvolvedor de software\")\n",
        "igor = Funcionario(\"Igor\", \"Jornalista\")\n",
        "linn = Funcionario(\"Linn\", \"Desenvolvedor de software\")\n",
        "\n",
        "depart = Departamento(\"ferrados\")\n",
        "depart.addFuncionario(giovanni)\n",
        "depart.addFuncionario(igor)\n",
        "depart.addFuncionario(linn)\n",
        "\n",
        "print(depart.Listar())"
      ]
    },
    {
      "cell_type": "markdown",
      "metadata": {
        "id": "fZUKMtl1moMd"
      },
      "source": [
        "### Exercício 2: Composição\n",
        "\n",
        "Crie duas classes: `Carro` e `Motor`. A classe `Carro` deve ter os atributos `marca` e `modelo`, além de um atributo do tipo `Motor`. A classe `Motor` deve ter o atributo `potencia`. Utilize a composição para representar a relação entre as duas classes, onde um carro sempre possui um motor e o motor não pode existir sem o carro.\n",
        "\n",
        "- Utilize slots para definir os atributos das classes.\n"
      ]
    },
    {
      "cell_type": "code",
      "execution_count": 4,
      "metadata": {
        "id": "UVo16aqfnNEZ"
      },
      "outputs": [
        {
          "name": "stdout",
          "output_type": "stream",
          "text": [
            "Marca: Toyota |  Modelo: Corolla\n",
            "Potencia do motor: 200 CV\n",
            "Marca: Fiat |  Modelo: Uno\n",
            "Potencia do motor: 2 CV\n"
          ]
        }
      ],
      "source": [
        "class Motor:\n",
        "    __slots__= [\"potencia\"]\n",
        "\n",
        "    def __init__(self, potencia):\n",
        "        self.potencia = potencia\n",
        "    def exibeMotor(self):\n",
        "        print(f\"Potencia do motor: {self.potencia} CV\")\n",
        "\n",
        "    \n",
        "class Carro:\n",
        "    __slots__ = [\"modelo\", \"marca\", \"motor\"]\n",
        "    def __init__(self, marca, modelo, potenciaMotor):\n",
        "        self.marca = marca\n",
        "        self.modelo = modelo\n",
        "        self.motor = Motor(potenciaMotor)\n",
        "\n",
        "    def exibeCarro(self):\n",
        "        print(f\"Marca: {self.marca} |  Modelo: {self.modelo}\")\n",
        "        self.motor.exibeMotor()\n",
        "    \n",
        "carro1 = Carro(\"Toyota\", \"Corolla\", 200)\n",
        "carro1.exibeCarro()\n",
        "\n",
        "carro2 = Carro(\"Fiat\", \"Uno\", 2)\n",
        "carro2.exibeCarro()\n",
        "\n",
        "\n",
        "\n",
        "\n",
        "\n"
      ]
    },
    {
      "cell_type": "markdown",
      "metadata": {
        "id": "FSh2n9J6nOMR"
      },
      "source": [
        "# Exceções e Erros\n"
      ]
    },
    {
      "cell_type": "markdown",
      "metadata": {
        "id": "2FMt6sM6nSC4"
      },
      "source": [
        "### Exercício 3: Tratamento de Exceção\n",
        "\n",
        "Crie uma classe `Calculadora` que tenha métodos para `adicionar`, `subtrair`, `multiplicar` e `dividir` dois números. No método de divisão, capture a exceção que ocorre quando há uma tentativa de divisão por zero e exiba uma mensagem de erro amigável.\n",
        "\n",
        "- Utilize o bloco try except para tratar a exceção."
      ]
    },
    {
      "cell_type": "code",
      "execution_count": 6,
      "metadata": {
        "id": "bM9DS_8_prSa"
      },
      "outputs": [
        {
          "name": "stdout",
          "output_type": "stream",
          "text": [
            "Adição 15 + 20 = 35\n",
            "subtração 20 - 15 = 5\n",
            "Multiplicação 5 * 6 = 30\n",
            "Divisão 20/10 = 2.0\n",
            "Erro: Divisão por zero\n",
            "Divisão 20/0 = None\n"
          ]
        }
      ],
      "source": [
        "class Calculadora:\n",
        "    def adicionar(self, a , b):\n",
        "        return a + b\n",
        "    def subtrair(self, a , b):\n",
        "        return a - b\n",
        "    def multiplicar(self, a , b):\n",
        "        return a * b\n",
        "    def dividir(self, a , b):\n",
        "        try:\n",
        "            resultado = a / b    \n",
        "        except ZeroDivisionError: \n",
        "            print(f\"Erro: Divisão por zero\")\n",
        "            return None\n",
        "        else:\n",
        "            return resultado\n",
        "\n",
        "calc = Calculadora()\n",
        "\n",
        "print(f\"Adição 15 + 20 = {calc.adicionar(15, 20)}\")\n",
        "print(f\"subtração 20 - 15 = {calc.subtrair(20, 15)}\")\n",
        "print(f\"Multiplicação 5 * 6 = {calc.multiplicar(5 , 6)}\")\n",
        "print(f\"Divisão 20/10 = {calc.dividir(20 , 10)}\")\n",
        "print(f\"Divisão 20/0 = {calc.dividir(20, 0)}\")"
      ]
    },
    {
      "cell_type": "markdown",
      "metadata": {
        "id": "75hMpymwprqW"
      },
      "source": [
        "### Exercício 4: Lançamento de Exceção\n",
        "\n",
        "Crie uma classe `VerificadorDeIdade` que possui um método `verificar_idade` que verifica se a idade fornecida é válida (deve ser um número positivo). Se a idade for inválida, lance uma exceção personalizada chamada `IdadeInvalidaError`.\n",
        "\n",
        "- Utilize o bloco try except para testar o uso da classe."
      ]
    },
    {
      "cell_type": "code",
      "execution_count": 7,
      "metadata": {
        "id": "o0QazDERquva"
      },
      "outputs": [
        {
          "name": "stdout",
          "output_type": "stream",
          "text": [
            "A idade tem que ser maior ou igual a zero\n"
          ]
        }
      ],
      "source": [
        "class IdadeInvalidaError(Exception):\n",
        "    pass\n",
        "\n",
        "class VerificadorDeIdade:\n",
        "    def __init__(self, idade):\n",
        "        self.idade = idade\n",
        "    def verificar_idade(self):\n",
        "        if self.idade < 0:\n",
        "            raise IdadeInvalidaError(\"A idade tem que ser maior ou igual a zero\")\n",
        "        else:\n",
        "            print(f\"Idade Válida: {self.idade}\")\n",
        "\n",
        "try:\n",
        "    verifica = VerificadorDeIdade(-3)\n",
        "    verifica.verificar_idade()\n",
        "except IdadeInvalidaError as e:\n",
        "    print(e) \n",
        "        "
      ]
    }
  ],
  "metadata": {
    "colab": {
      "provenance": []
    },
    "kernelspec": {
      "display_name": "Python 3",
      "name": "python3"
    },
    "language_info": {
      "codemirror_mode": {
        "name": "ipython",
        "version": 3
      },
      "file_extension": ".py",
      "mimetype": "text/x-python",
      "name": "python",
      "nbconvert_exporter": "python",
      "pygments_lexer": "ipython3",
      "version": "3.10.12"
    }
  },
  "nbformat": 4,
  "nbformat_minor": 0
}
