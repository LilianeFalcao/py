{
  "cells": [
    {
      "cell_type": "markdown",
      "metadata": {
        "id": "IEklcZ-wSGYA"
      },
      "source": [
        "## Revisão sobre Introdução à Programação Orientada à Objetos"
      ]
    },
    {
      "cell_type": "markdown",
      "metadata": {
        "id": "ODp27tfCSYJe"
      },
      "source": [
        "### Exercício 1: Construtor e Destrutor\n",
        "Enunciado:\n",
        "\n",
        "Crie uma classe `Animal` com os atributos `nome` e `idade`. Implemente o construtor para inicializar esses atributos e o destrutor para imprimir uma mensagem indicando que o objeto foi destruído.\n",
        "\n"
      ]
    },
    {
      "cell_type": "code",
      "execution_count": 63,
      "metadata": {
        "id": "r8BEC4S3SFtY"
      },
      "outputs": [],
      "source": [
        "# Implemente a resolução aqui\n",
        "class Animal():\n",
        "    def __init__(self, nome , idade):\n",
        "        self.nomeAnimal = nome\n",
        "        self.idadeAnimal = idade\n",
        "        print(f\"Animal com nome: {self.nomeAnimal} com idade: {self.idadeAnimal}, foi criado\")\n",
        "    def __del__(self):\n",
        "        print(f\"Animal: {self.nomeAnimal} foi removido\")\n"
      ]
    },
    {
      "cell_type": "code",
      "execution_count": 64,
      "metadata": {
        "id": "kWUyC1WBSgZU"
      },
      "outputs": [
        {
          "name": "stdout",
          "output_type": "stream",
          "text": [
            "Animal com nome: Leão com idade: 5, foi criado\n",
            "Animal: Leão foi removido\n"
          ]
        }
      ],
      "source": [
        "# Testando a classe Animal\n",
        "animal1 = Animal(\"Leão\", 5)\n",
        "#del animal1"
      ]
    },
    {
      "cell_type": "markdown",
      "metadata": {
        "id": "x9EZkUoJSi2G"
      },
      "source": [
        "### Exercício 2: Herança\n",
        "Enunciado:\n",
        "\n",
        "Crie uma classe `Cachorro` que herda da classe `Animal`. Adicione um atributo `raca` e um método `latir` que imprime \"Au au!\".\n",
        "\n",
        "obs.: Utilize a chamada `super()` para executar o construtor da classe principal\n"
      ]
    },
    {
      "cell_type": "code",
      "execution_count": 51,
      "metadata": {
        "id": "VFD-62jYS4Jr"
      },
      "outputs": [],
      "source": [
        "# Implemente a resolução aqui\n",
        "\n",
        "class Cachorro(Animal):\n",
        "    def __init__(self, nome, idade, raca):\n",
        "        super().__init__(nome, idade)\n",
        "        self.raca = raca\n",
        "    def FazerLatir(self):\n",
        "        print(f\"Au Au!\")\n",
        "        "
      ]
    },
    {
      "cell_type": "code",
      "execution_count": 52,
      "metadata": {
        "id": "Q92ZExAiS4aU"
      },
      "outputs": [],
      "source": [
        "# Testando a classe Cachorro\n",
        "#cachorro1 = Cachorro(\"Rex\", 3, \"Labrador\")\n",
        "#cachorro2 = Cachorro(\"Banguela\", 2, \"Bull Terrier\")\n",
        "#cachorro1.FazerLatir()"
      ]
    },
    {
      "cell_type": "markdown",
      "metadata": {
        "id": "k5cOMhw4TBTm"
      },
      "source": [
        "### Exercício 3: Polimorfismo\n",
        "Enunciado:\n",
        "\n",
        "Crie uma classe `Gato` que também herda da classe `Animal`. Adicione um método `miau` que imprime \"Miau!\". Utilize polimorfismo para chamar o método `falar` que imprime o som feito pelo animal.\n",
        "\n",
        "obs.: utilize a função `isinstance()` para escolher o nome do método a ser executado de acordo com a instancia do objeto da classe."
      ]
    },
    {
      "cell_type": "code",
      "execution_count": 57,
      "metadata": {
        "id": "d4NrJMYGTHae"
      },
      "outputs": [],
      "source": [
        "class Gato(Animal):\n",
        "    def __init__(self, nome, idade, cor ):\n",
        "        super().__init__(nome, idade)\n",
        "        self.cor = cor\n",
        "    def FazerMiar(self):\n",
        "        print(\"Miau!\")\n",
        "\n",
        "def falar(objeto):\n",
        "    if isinstance(objeto, Cachorro):\n",
        "        objeto.FazerLatir()\n",
        "    elif isinstance(objeto, Gato):\n",
        "        objeto.FazerMiar()"
      ]
    },
    {
      "cell_type": "code",
      "execution_count": 61,
      "metadata": {
        "id": "Oq7hfSYKTJBF"
      },
      "outputs": [
        {
          "name": "stdout",
          "output_type": "stream",
          "text": [
            "Animal com nome: Mingau com idade: 1, foi criado\n",
            "Animal: Mingau foi removido\n",
            "Animal com nome: Banguela com idade: 1, foi criado\n",
            "Animal: Banguela foi removido\n",
            "Miau!\n",
            "Animal com nome: Lilo com idade: 4, foi criado\n",
            "Animal: Lilo foi removido\n",
            "Au Au!\n"
          ]
        }
      ],
      "source": [
        "# Testando a classe Gato e o polimorfismo\n",
        "gato1 = Gato(\"Mingau\", 1, \"branco e preto\")\n",
        "gato2 = Gato(\"Banguela\", 1,\"preto\")\n",
        "falar(gato1)\n",
        "\n",
        "cachorro1 = Cachorro(\"Lilo\", 4, \"lhasa apso\")\n",
        "falar(cachorro1)"
      ]
    },
    {
      "cell_type": "markdown",
      "metadata": {
        "id": "zZ9ioiSTVHBr"
      },
      "source": [
        "### Exercício 4: Encapsulamento\n",
        "Enunciado:\n",
        "\n",
        "Crie uma classe `Aluno` com os atributos privados `__matricula`, `__nome` e `__nota`. Adicione métodos públicos `alterar_nota` para alterar a nota do aluno e `exibir_informacoes` para mostrar as informações do aluno.\n",
        "\n",
        "obs.: faça uma validação no método alterar_nota para permitir notas de `0` a `10` somente.\n",
        "\n",
        "Crie dois objetos dessa classe e execute todos os métodos de forma que seja possível testar a validação implementada."
      ]
    },
    {
      "cell_type": "code",
      "execution_count": 76,
      "metadata": {
        "id": "dXYsXajVWWoe"
      },
      "outputs": [
        {
          "name": "stdout",
          "output_type": "stream",
          "text": [
            " Matricula: 0202425 | Nome: Giovanni Martins | Nota:1  \n",
            " Matricula: 0202426 | Nome: Linn Falcão | Nota:10  \n",
            "não é possivel alterar a nota do aluno:Giovanni Martins \n",
            "Nota do aluno: Giovanni Martins foi alterada!\n",
            " Matricula: 0202425 | Nome: Giovanni Martins | Nota:10  \n"
          ]
        }
      ],
      "source": [
        "class Aluno():\n",
        "    def __init__(self, matricula, nome, nota):\n",
        "        self.__matricula = matricula\n",
        "        self.__nome = nome\n",
        "        self.__nota = nota\n",
        "    def alterarNota(self, novaNota):\n",
        "        if novaNota >= 0 and novaNota <= 10:\n",
        "            self.__nota = novaNota\n",
        "            print(f\"Nota do aluno: {self.__nome} foi alterada!\")\n",
        "        else:\n",
        "            print(f\"não é possivel alterar a nota do aluno:{self.__nome} \")\n",
        "    def ExibirInfos(self):\n",
        "        print(f' Matricula: {self.__matricula} | Nome: {self.__nome} | Nota:{ self.__nota}  ')\n",
        "\n",
        "Giovanni = Aluno(\"0202425\", \"Giovanni Martins\", 1)\n",
        "Giovanni.ExibirInfos()\n",
        "\n",
        "Linn = Aluno(\"0202426\", \"Linn Falcão\", 10)\n",
        "Linn.ExibirInfos()\n",
        "\n",
        "Giovanni.alterarNota(-1)\n",
        "Giovanni.alterarNota(10)\n",
        "Giovanni.ExibirInfos()\n"
      ]
    },
    {
      "cell_type": "markdown",
      "metadata": {
        "id": "1AY7XLmXXWL3"
      },
      "source": [
        "### Exercício 5: Construtor, Destrutor e Encapsulamento\n",
        "Enunciado:\n",
        "\n",
        "Crie uma classe `Curso` com os atributos privados `__nome`, `__duracao` e `__valor`. Implemente o construtor para inicializar esses atributos e o destrutor para imprimir uma mensagem indicando que o curso foi encerrado. Adicione métodos `get` e `set` para acessar e modificar o valor do curso.\n",
        "\n",
        "Crie pelo menos um objeto dessa classe e execute todos os métodos de forma que seja possível verificar o seu funcionamento.\n"
      ]
    },
    {
      "cell_type": "code",
      "execution_count": 85,
      "metadata": {
        "id": "_M5bIyYEX8Fg"
      },
      "outputs": [
        {
          "name": "stdout",
          "output_type": "stream",
          "text": [
            "Curso foi encerrado!\n",
            "Nome curso: Sistemas de Informação | Duração: 4 anos | Valor: R$ 100,00\n",
            "Valor alterado: R$ 0,00\n"
          ]
        }
      ],
      "source": [
        "class Curso():\n",
        "    def __init__(self, nome, duracao, valor):\n",
        "        self.__nome = nome\n",
        "        self.__duracao = duracao\n",
        "        self.__valor = valor\n",
        "    def get(self):\n",
        "        print(f\"Nome curso: {self.__nome} | Duração: {self.__duracao} anos | Valor: R$ {self.__valor},00\")\n",
        "    def set(self, valorNovo):\n",
        "        self.__valor = valorNovo\n",
        "        print(f\"Valor alterado: R$ {self.__valor},00\")\n",
        "    def __del__(self):\n",
        "        print(f\"Curso foi encerrado!\")\n",
        "\n",
        "SI = Curso(\"Sistemas de Informação\", 4, 100)\n",
        "SI.get()\n",
        "SI.set(0)"
      ]
    }
  ],
  "metadata": {
    "colab": {
      "provenance": []
    },
    "kernelspec": {
      "display_name": "Python 3",
      "name": "python3"
    },
    "language_info": {
      "codemirror_mode": {
        "name": "ipython",
        "version": 3
      },
      "file_extension": ".py",
      "mimetype": "text/x-python",
      "name": "python",
      "nbconvert_exporter": "python",
      "pygments_lexer": "ipython3",
      "version": "3.10.12"
    }
  },
  "nbformat": 4,
  "nbformat_minor": 0
}
